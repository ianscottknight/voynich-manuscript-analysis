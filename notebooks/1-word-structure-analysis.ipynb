{
 "cells": [
  {
   "cell_type": "code",
   "execution_count": null,
   "metadata": {},
   "outputs": [],
   "source": [
    "import fix_notebook_imports\n",
    "\n",
    "from src import util\n",
    "\n",
    "import collections\n",
    "\n",
    "import numpy as np\n",
    "import pandas as pd\n",
    "import matplotlib.pyplot as plt\n",
    "%matplotlib inline\n",
    "import seaborn as sns\n",
    "sns.set_context(\"poster\")\n"
   ]
  },
  {
   "cell_type": "code",
   "execution_count": null,
   "metadata": {},
   "outputs": [],
   "source": [
    "from src import util"
   ]
  },
  {
   "cell_type": "code",
   "execution_count": null,
   "metadata": {},
   "outputs": [],
   "source": [
    "len(util.PARAGRAPHS)\n"
   ]
  },
  {
   "cell_type": "code",
   "execution_count": null,
   "metadata": {},
   "outputs": [],
   "source": [
    "sum_ = sum([len(paragraph) for paragraph in util.PARAGRAPHS])\n",
    "\n",
    "print('Average number of words per paragraph: {}'.format(round(sum_/len(util.PARAGRAPHS), 2)))"
   ]
  },
  {
   "cell_type": "code",
   "execution_count": null,
   "metadata": {},
   "outputs": [],
   "source": [
    "counts = collections.Counter(util.WORDS)\n",
    "\n",
    "ordered_counts = [(key, val) for val, key in sorted([(j, i) for i, j in counts.items()], reverse=True)]\n",
    "\n",
    "print('Number of distinct words: {}'.format(len(ordered_counts)))\n",
    "ordered_counts\n"
   ]
  },
  {
   "cell_type": "code",
   "execution_count": null,
   "metadata": {},
   "outputs": [],
   "source": [
    "def getEndings(series):\n",
    "    return [(key[len(series):], val) for key, val in ordered_counts if key[:len(series)] == series]"
   ]
  },
  {
   "cell_type": "code",
   "execution_count": null,
   "metadata": {},
   "outputs": [],
   "source": [
    "def getBeginnings(series):\n",
    "    return [(key[:-len(series)], val) for key, val in ordered_counts if key[-len(series):] == series]"
   ]
  },
  {
   "cell_type": "code",
   "execution_count": null,
   "metadata": {},
   "outputs": [],
   "source": [
    "def get_ratios(series):\n",
    "    n = series.sum()\n",
    "    return [x/n for x in series]"
   ]
  },
  {
   "cell_type": "code",
   "execution_count": null,
   "metadata": {},
   "outputs": [],
   "source": [
    "def get_means(series):\n",
    "    return series.mean()"
   ]
  },
  {
   "cell_type": "code",
   "execution_count": null,
   "metadata": {},
   "outputs": [],
   "source": [
    "def test_letter_class(letter, class_endings):\n",
    "    \n",
    "    class_vocab = []\n",
    "    base_to_ending_counts_dict = collections.defaultdict(list)\n",
    "    df_base_ending_counts = pd.DataFrame()\n",
    "    \n",
    "    class_endings = sorted(class_endings, key=lambda x: len(x), reverse=True)\n",
    "    \n",
    "    for ending in class_endings:\n",
    "        for base, value in getBeginnings(ending):\n",
    "            if (base+ending not in class_vocab) and (base+ending in util.VOCAB):\n",
    "                base_to_ending_counts_dict[base].append((ending, sum([1 for w in util.WORDS if w == base+ending])))\n",
    "                class_vocab.append(base+ending)\n",
    "            \n",
    "    words_count = sum([1 for word in util.WORDS if word in class_vocab])\n",
    "    print('Proportion of {}-class words to total words: {}'.format(letter, round(words_count/len(util.WORDS), 3)))\n",
    "\n",
    "    for i, base in enumerate(base_to_ending_counts_dict.keys()): \n",
    "        ending_to_value_dict = {e : v for e, v in base_to_ending_counts_dict[base]}\n",
    "        values = []\n",
    "        for ending in class_endings:\n",
    "            if ending in ending_to_value_dict.keys():\n",
    "                values.append(ending_to_value_dict[ending])\n",
    "            else:\n",
    "                values.append(0)\n",
    "        df_base_ending_counts[base] = pd.Series(values)\n",
    "\n",
    "    df_base_ending_counts['Suffix'] = [x for x in class_endings]\n",
    "    df_base_ending_counts = df_base_ending_counts.set_index('Suffix')\n",
    "    \n",
    "    df_base_ending_counts.loc[\"sum\"] = df_base_ending_counts.sum(axis=0, numeric_only=True)\n",
    "    df_base_ending_counts = df_base_ending_counts.sort_values(axis=1, by=\"sum\", ascending=False).drop(\"sum\")\n",
    "    \n",
    "    df_base_ending_ratios = df_base_ending_counts.apply(get_ratios)\n",
    "    df_base_ending_ratios['Suffix'] = [x for x in class_endings]\n",
    "    df_base_ending_ratios = df_base_ending_ratios.set_index('Suffix')\n",
    "\n",
    "    return (class_vocab, base_to_ending_counts_dict, df_base_ending_counts, df_base_ending_ratios)"
   ]
  },
  {
   "cell_type": "code",
   "execution_count": null,
   "metadata": {},
   "outputs": [],
   "source": [
    "a_endings = ['am', 'ar', 'al', 'an', 'ain', 'aiin', 'aiiin']\n",
    "o_endings = ['ol', 'or', 'o']\n",
    "y_endings = ['y', 'dy', 'ey', 'edy', 'eey', 'eedy', 'eeey', 'eeedy']\n"
   ]
  },
  {
   "cell_type": "code",
   "execution_count": null,
   "metadata": {},
   "outputs": [],
   "source": [
    "vocab_a, base_to_ending_counts_dict_a, df_base_ending_counts_a, df_base_ending_ratios_a = test_letter_class('a', a_endings)\n",
    "vocab_o, base_to_ending_counts_dict_o, df_base_ending_counts_o, df_base_ending_ratios_o = test_letter_class('o', o_endings)\n",
    "vocab_y, base_to_ending_counts_dict_y, df_base_ending_counts_y, df_base_ending_ratios_y = test_letter_class('y', y_endings)\n"
   ]
  },
  {
   "cell_type": "code",
   "execution_count": null,
   "metadata": {},
   "outputs": [],
   "source": [
    "def plot_ratios(df_base_ending_ratios, NUM_POINTS):\n",
    "    plt.rcParams['figure.figsize']=(8,6)\n",
    "    swarm = sns.violinplot(data=df_base_ending_ratios.iloc[:,:NUM_POINTS].transpose(), orient='v', scale='count')"
   ]
  },
  {
   "cell_type": "code",
   "execution_count": null,
   "metadata": {},
   "outputs": [],
   "source": [
    "def plot_endings(df_base_ending_counts, class_endings, NUM_POINTS):\n",
    "    plt.rcParams['figure.figsize']=(16,12)\n",
    "    heatmap = sns.heatmap(df_base_ending_counts.iloc[:,:NUM_POINTS].transpose().corr(), vmin=0.0, vmax=1.0, annot=True, xticklabels=['-'+ x for x in class_endings], yticklabels=['-'+ x for x in class_endings])\n",
    "\n",
    "    plt.rcParams['figure.figsize']=(10,8)\n",
    "    scatter = pd.plotting.scatter_matrix(df_base_ending_counts.iloc[:,:NUM_POINTS].transpose(), diagonal='kde')"
   ]
  },
  {
   "cell_type": "code",
   "execution_count": null,
   "metadata": {},
   "outputs": [],
   "source": [
    "plot_ratios(df_base_ending_ratios_a, NUM_POINTS=40)\n"
   ]
  },
  {
   "cell_type": "code",
   "execution_count": null,
   "metadata": {},
   "outputs": [],
   "source": [
    "plot_endings(df_base_ending_counts_a, a_endings, NUM_POINTS=40)\n"
   ]
  },
  {
   "cell_type": "code",
   "execution_count": null,
   "metadata": {},
   "outputs": [],
   "source": [
    "plot_ratios(df_base_ending_ratios_o, NUM_POINTS=40)\n"
   ]
  },
  {
   "cell_type": "code",
   "execution_count": null,
   "metadata": {},
   "outputs": [],
   "source": [
    "plot_endings(df_base_ending_counts_o, o_endings, NUM_POINTS=40)\n"
   ]
  },
  {
   "cell_type": "code",
   "execution_count": null,
   "metadata": {},
   "outputs": [],
   "source": [
    "plot_ratios(df_base_ending_ratios_y, NUM_POINTS=40)\n"
   ]
  },
  {
   "cell_type": "code",
   "execution_count": null,
   "metadata": {},
   "outputs": [],
   "source": [
    "plot_endings(df_base_ending_counts_y, y_endings, NUM_POINTS=40)\n"
   ]
  },
  {
   "cell_type": "code",
   "execution_count": null,
   "metadata": {},
   "outputs": [],
   "source": [
    "with pd.option_context('display.max_rows', None, 'display.max_columns', None): \n",
    "    display(df_base_ending_counts_a)"
   ]
  },
  {
   "cell_type": "code",
   "execution_count": null,
   "metadata": {},
   "outputs": [],
   "source": [
    "with pd.option_context('display.max_rows', None, 'display.max_columns', None): \n",
    "    display(df_base_ending_counts_o)"
   ]
  },
  {
   "cell_type": "code",
   "execution_count": null,
   "metadata": {},
   "outputs": [],
   "source": [
    "with pd.option_context('display.max_rows', None, 'display.max_columns', None): \n",
    "    display(df_base_ending_counts_y)"
   ]
  },
  {
   "cell_type": "code",
   "execution_count": null,
   "metadata": {},
   "outputs": [],
   "source": [
    "with pd.option_context('display.max_rows', None, 'display.max_columns', None):  # more options can be specified also\n",
    "    display(df_base_ending_ratios_a)"
   ]
  },
  {
   "cell_type": "code",
   "execution_count": null,
   "metadata": {},
   "outputs": [],
   "source": [
    "with pd.option_context('display.max_rows', None, 'display.max_columns', None):  # more options can be specified also\n",
    "    display(df_base_ending_ratios_o)"
   ]
  },
  {
   "cell_type": "code",
   "execution_count": null,
   "metadata": {},
   "outputs": [],
   "source": [
    "with pd.option_context('display.max_rows', None, 'display.max_columns', None):  # more options can be specified also\n",
    "    display(df_base_ending_ratios_y)"
   ]
  },
  {
   "cell_type": "code",
   "execution_count": null,
   "metadata": {},
   "outputs": [],
   "source": []
  }
 ],
 "metadata": {
  "kernelspec": {
   "display_name": "Python 3",
   "language": "python",
   "name": "python3"
  },
  "language_info": {
   "codemirror_mode": {
    "name": "ipython",
    "version": 3
   },
   "file_extension": ".py",
   "mimetype": "text/x-python",
   "name": "python",
   "nbconvert_exporter": "python",
   "pygments_lexer": "ipython3",
   "version": "3.8.5"
  }
 },
 "nbformat": 4,
 "nbformat_minor": 2
}
